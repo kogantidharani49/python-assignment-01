{
 "cells": [
  {
   "cell_type": "code",
   "execution_count": 1,
   "id": "5971d00a",
   "metadata": {},
   "outputs": [
    {
     "name": "stdout",
     "output_type": "stream",
     "text": [
      "entre xdharani : scissor\n",
      "entre ygnanam: rock\n",
      "winner is y\n"
     ]
    }
   ],
   "source": [
    "#rock paper scissor game\n",
    "x=input(\"entre xdharani : \")\n",
    "y=input(\"entre ygnanam: \")\n",
    "if y==\"rock\" and x==\"paper\": \n",
    "            print(\" winner is x\")\n",
    "elif y==\"paper\" and x==\"scissor\":\n",
    "            print(\"winner is x\")\n",
    "elif y==\"scissor\" and \"x==rock\":\n",
    "            print(\"winner is x\") \n",
    "elif x==\"rock\" and y==\"paper\": \n",
    "            print(\" winner is y\")\n",
    "elif x==\"paper\" and y==\"scissor\":\n",
    "            print(\"winner is y\")\n",
    "elif x==\"scissor\" and y==\"rock\":\n",
    "            print(\"winner is y\")\n",
    "elif x==\"scissor\" and y==\"scissor\":\n",
    "            print(\"draw\") \n",
    "elif x==\"rock\" and y==\"rock\":\n",
    "            print(\"draw\") \n",
    "elif x==\"paper\" and y==\"paper\":\n",
    "            print(\"draw\") "
   ]
  },
  {
   "cell_type": "code",
   "execution_count": null,
   "id": "a9c730d1",
   "metadata": {},
   "outputs": [],
   "source": []
  }
 ],
 "metadata": {
  "kernelspec": {
   "display_name": "Python 3 (ipykernel)",
   "language": "python",
   "name": "python3"
  },
  "language_info": {
   "codemirror_mode": {
    "name": "ipython",
    "version": 3
   },
   "file_extension": ".py",
   "mimetype": "text/x-python",
   "name": "python",
   "nbconvert_exporter": "python",
   "pygments_lexer": "ipython3",
   "version": "3.9.7"
  }
 },
 "nbformat": 4,
 "nbformat_minor": 5
}
