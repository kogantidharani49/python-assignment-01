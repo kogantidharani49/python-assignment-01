{
 "cells": [
  {
   "cell_type": "markdown",
   "metadata": {},
   "source": [
    "# Assignment Instructions\n",
    "\n",
    "`Hello Innominion,`\n",
    "\n",
    "- **Try to attempt all the questions in every possible way.**\n",
    "- **Some other topics are required to solve some questions. don't panic.**\n",
    "- **Those questions can be answered after the topics are taught.**\n",
    "\n",
    "\n",
    "- `Join Mentoring Session for the Support/Doubts Resolving with Our Technical Mentors (2.00 PM - 6.00 PM  Mon-Sat)` \n",
    "\n",
    "Happy Learning !!!"
   ]
  },
  {
   "cell_type": "markdown",
   "metadata": {},
   "source": [
    "###  Dictionary"
   ]
  },
  {
   "cell_type": "markdown",
   "metadata": {},
   "source": [
    "**`Question :`Create Dictionary for following information as \"person1\":**\n",
    "   - Name = John\n",
    "   - Gender= Male\n",
    "   - Occupation = Data Scientist\n",
    "   - Location  = Nizampet, Hyderabad"
   ]
  },
  {
   "cell_type": "code",
   "execution_count": 9,
   "metadata": {},
   "outputs": [],
   "source": [
    "person1={\"Name\": \"John\",\"Gender\": \"Male\",\"Occupation\": \"Data Scientist\",\"Location\" :\"Nizampet,Hyderabad\"}"
   ]
  },
  {
   "cell_type": "code",
   "execution_count": 10,
   "metadata": {},
   "outputs": [
    {
     "data": {
      "text/plain": [
       "{'Name': 'John',\n",
       " 'Gender': 'Male',\n",
       " 'Occupation': 'Data Scientist',\n",
       " 'Location': 'Nizampet,Hyderabad'}"
      ]
     },
     "execution_count": 10,
     "metadata": {},
     "output_type": "execute_result"
    }
   ],
   "source": [
    "person1"
   ]
  },
  {
   "cell_type": "markdown",
   "metadata": {},
   "source": [
    "> print keys in person1 as a list"
   ]
  },
  {
   "cell_type": "code",
   "execution_count": 21,
   "metadata": {},
   "outputs": [
    {
     "data": {
      "text/plain": [
       "['Name', 'Gender', 'Occupation', 'Location']"
      ]
     },
     "execution_count": 21,
     "metadata": {},
     "output_type": "execute_result"
    }
   ],
   "source": [
    "list(person1)"
   ]
  },
  {
   "cell_type": "markdown",
   "metadata": {},
   "source": [
    "> **`Question:` Remove Location in person1**"
   ]
  },
  {
   "cell_type": "code",
   "execution_count": 24,
   "metadata": {},
   "outputs": [],
   "source": [
    "del person1[\"Location\"]\n"
   ]
  },
  {
   "cell_type": "code",
   "execution_count": 25,
   "metadata": {},
   "outputs": [
    {
     "data": {
      "text/plain": [
       "{'Name': 'John', 'Gender': 'Male', 'Occupation': 'Data Scientist'}"
      ]
     },
     "execution_count": 25,
     "metadata": {},
     "output_type": "execute_result"
    }
   ],
   "source": [
    "person1"
   ]
  },
  {
   "cell_type": "markdown",
   "metadata": {},
   "source": [
    "> **`Question:` Create dictionary of person2 with**\n",
    "- Name  = Raghu Ram\n",
    "- Gender = Male\n",
    "- Age  = 25\n",
    "- Occupation = Data Scienctist"
   ]
  },
  {
   "cell_type": "code",
   "execution_count": 27,
   "metadata": {},
   "outputs": [],
   "source": [
    "person2= {\"Name\" : \"Raghu Ram\",\n",
    "\"Gender\" : \"Male\",\n",
    "\"Age\": 25,\n",
    "\"Occupation\" : \"Data Scienctist\"}"
   ]
  },
  {
   "cell_type": "code",
   "execution_count": 28,
   "metadata": {},
   "outputs": [
    {
     "data": {
      "text/plain": [
       "{'Name': 'Raghu Ram',\n",
       " 'Gender': 'Male',\n",
       " 'Age': 25,\n",
       " 'Occupation': 'Data Scienctist'}"
      ]
     },
     "execution_count": 28,
     "metadata": {},
     "output_type": "execute_result"
    }
   ],
   "source": [
    "person2"
   ]
  },
  {
   "cell_type": "markdown",
   "metadata": {},
   "source": [
    "> **`Question:` Print the output as show below**"
   ]
  },
  {
   "cell_type": "code",
   "execution_count": 31,
   "metadata": {},
   "outputs": [
    {
     "name": "stdout",
     "output_type": "stream",
     "text": [
      "====person1==== {'Name': 'John', 'Gender': 'Male', 'Occupation': 'Data Scientist'}\n",
      "====person2==== {'Name': 'Raghu Ram', 'Gender': 'Male', 'Age': 25, 'Occupation': 'Data Scienctist'}\n"
     ]
    }
   ],
   "source": [
    "print(\"====person1====\",person1)\n",
    "print(\"====person2====\",person2)"
   ]
  },
  {
   "cell_type": "markdown",
   "metadata": {},
   "source": [
    "# create a dictionary\n",
    "#### `Question:` remove the elements from that dictionary using different methods\n",
    "{1: 1, 2: 4, 3: 9, 4: 16, 5: 25,6:36,7:49}"
   ]
  },
  {
   "cell_type": "code",
   "execution_count": 61,
   "metadata": {},
   "outputs": [],
   "source": [
    "f={1: 1, 2: 4, 3: 9, 4: 16, 5: 25,6:36,7:49}\n",
    "del f[1] "
   ]
  },
  {
   "cell_type": "code",
   "execution_count": 62,
   "metadata": {},
   "outputs": [
    {
     "data": {
      "text/plain": [
       "{2: 4, 4: 16, 5: 25, 6: 36, 7: 49}"
      ]
     },
     "execution_count": 62,
     "metadata": {},
     "output_type": "execute_result"
    }
   ],
   "source": [
    "f.pop(3)\n",
    "f"
   ]
  },
  {
   "cell_type": "code",
   "execution_count": 63,
   "metadata": {},
   "outputs": [
    {
     "data": {
      "text/plain": [
       "{2: 4, 4: 16, 5: 25, 6: 36}"
      ]
     },
     "execution_count": 63,
     "metadata": {},
     "output_type": "execute_result"
    }
   ],
   "source": [
    "f.popitem()\n",
    "f"
   ]
  },
  {
   "cell_type": "code",
   "execution_count": 65,
   "metadata": {},
   "outputs": [
    {
     "data": {
      "text/plain": [
       "{}"
      ]
     },
     "execution_count": 65,
     "metadata": {},
     "output_type": "execute_result"
    }
   ],
   "source": [
    "f.clear()\n",
    "f"
   ]
  },
  {
   "cell_type": "markdown",
   "metadata": {},
   "source": [
    "\n",
    "### `Question:` print the values from the given dictionary in descending order\n",
    "{0: 0, 1: 1, 3: 9, 5: 25, 7: 49, 9: 81}"
   ]
  },
  {
   "cell_type": "code",
   "execution_count": 77,
   "metadata": {},
   "outputs": [],
   "source": [
    "x={0: 0, 1: 1, 3: 9, 5: 25, 7: 49, 9: 81}\n",
    "def desc(x):\n",
    "            y=x.values()\n",
    "            list(y).sort(reverse=True)\n",
    "            return y\n"
   ]
  },
  {
   "cell_type": "code",
   "execution_count": 78,
   "metadata": {},
   "outputs": [
    {
     "data": {
      "text/plain": [
       "dict_values([0, 1, 9, 25, 49, 81])"
      ]
     },
     "execution_count": 78,
     "metadata": {},
     "output_type": "execute_result"
    }
   ],
   "source": [
    "desc(x)"
   ]
  },
  {
   "cell_type": "code",
   "execution_count": null,
   "metadata": {},
   "outputs": [],
   "source": []
  },
  {
   "cell_type": "markdown",
   "metadata": {},
   "source": [
    "### `Question:` merge the below 3 dictionaries\n",
    "dict1 = { 'a': 1, 'b': 2 }\n",
    "dict2 = { 'b': 3, 'c': 4 }\n",
    "dict3 = { 'c': 5, 'd': 6 }"
   ]
  },
  {
   "cell_type": "code",
   "execution_count": 82,
   "metadata": {},
   "outputs": [],
   "source": [
    "dict1 = { 'a': 1, 'b': 2 } \n",
    "dict2 = { 'b': 3, 'c': 4 } \n",
    "dict3 = { 'c': 5, 'd': 6 }\n",
    "dict1.update(dict2)\n",
    "dict1.update(dict3)"
   ]
  },
  {
   "cell_type": "code",
   "execution_count": 83,
   "metadata": {},
   "outputs": [
    {
     "data": {
      "text/plain": [
       "{'a': 1, 'b': 3, 'c': 5, 'd': 6}"
      ]
     },
     "execution_count": 83,
     "metadata": {},
     "output_type": "execute_result"
    }
   ],
   "source": [
    "dict1"
   ]
  },
  {
   "cell_type": "markdown",
   "metadata": {},
   "source": [
    "**`Question:` change Charan’s salary to 8500 in the following dictionary**"
   ]
  },
  {
   "cell_type": "code",
   "execution_count": 57,
   "metadata": {},
   "outputs": [],
   "source": [
    "sample={'emp1': {'name': 'Jhony', 'salary': 7500},'emp2': {'name': 'Ravi', 'salary': 8000},'emp3':{'name': 'Charan', 'salary': 6500}}"
   ]
  },
  {
   "cell_type": "code",
   "execution_count": 58,
   "metadata": {},
   "outputs": [],
   "source": [
    "sample[\"emp2\"][\"salary\"]=8500\n"
   ]
  },
  {
   "cell_type": "code",
   "execution_count": 59,
   "metadata": {},
   "outputs": [
    {
     "data": {
      "text/plain": [
       "{'emp1': {'name': 'Jhony', 'salary': 7500},\n",
       " 'emp2': {'name': 'Ravi', 'salary': 8500},\n",
       " 'emp3': {'name': 'Charan', 'salary': 6500}}"
      ]
     },
     "execution_count": 59,
     "metadata": {},
     "output_type": "execute_result"
    }
   ],
   "source": [
    "sample"
   ]
  },
  {
   "cell_type": "markdown",
   "metadata": {},
   "source": [
    "**`Question:` Print the value of key ‘history’ from the below dict**"
   ]
  },
  {
   "cell_type": "code",
   "execution_count": 39,
   "metadata": {},
   "outputs": [],
   "source": [
    "sampleDict = {\n",
    "    \"class\": {\n",
    "        \"student\": {\n",
    "            \"name\": \"Mike\",\n",
    "            \"marks\": {\n",
    "                \"physics\": 70,\n",
    "                \"history\": 80\n",
    "            }\n",
    "        }\n",
    "    }\n",
    "}"
   ]
  },
  {
   "cell_type": "code",
   "execution_count": 55,
   "metadata": {},
   "outputs": [
    {
     "data": {
      "text/plain": [
       "80"
      ]
     },
     "execution_count": 55,
     "metadata": {},
     "output_type": "execute_result"
    }
   ],
   "source": [
    "sampleDict[\"class\"][\"student\"][\"marks\"][\"history\"]"
   ]
  },
  {
   "cell_type": "markdown",
   "metadata": {},
   "source": [
    "**`Question:` Rename a key Location to a Area in the following dictionary**"
   ]
  },
  {
   "cell_type": "code",
   "execution_count": 35,
   "metadata": {},
   "outputs": [],
   "source": [
    "x={'Gender': 'Male',\n",
    " 'Location': 'Nizampet, Hyderabad',\n",
    " 'Name': 'John',\n",
    " 'Occupation': 'Data Scientist'}"
   ]
  },
  {
   "cell_type": "code",
   "execution_count": 36,
   "metadata": {},
   "outputs": [
    {
     "data": {
      "text/plain": [
       "{'Gender': 'Male',\n",
       " 'Name': 'John',\n",
       " 'Occupation': 'Data Scientist',\n",
       " 'area': 'nizamet,hyderabad'}"
      ]
     },
     "execution_count": 36,
     "metadata": {},
     "output_type": "execute_result"
    }
   ],
   "source": [
    "x.update({\"area\":\"nizamet,hyderabad\"})\n",
    "del x[\"Location\"]\n",
    "x"
   ]
  },
  {
   "cell_type": "markdown",
   "metadata": {},
   "source": [
    "**`Question:` database = {'ram':1234,'raghu':5678,'kanav':1357}**\n",
    "## Tasks :-\n",
    "### 1. if the username and password matches print hello username\n",
    "### 2. if the username and password doesnot match, ask, you want me to add into the database\n",
    "### 3. show the updated database list\n"
   ]
  },
  {
   "cell_type": "code",
   "execution_count": 32,
   "metadata": {},
   "outputs": [
    {
     "name": "stdout",
     "output_type": "stream",
     "text": [
      "entre user name:dharan\n",
      "you want me to add into the database\n",
      "entre user password:1456\n",
      "entre user name:dharani\n",
      "{'ram': 1234, 'raghu': 5678, 'kanav': 1357, 'dharani': 1456}\n"
     ]
    }
   ],
   "source": [
    "db = {'ram':1234,'raghu':5678,'kanav':1357}\n",
    "# print(db.values())\n",
    "if input(\"entre user name:\") in db.keys():\n",
    "        a=int(input(\"entre user password:\"))\n",
    "        if a in db.values():\n",
    "            print(\"hello username\")\n",
    "else: \n",
    "    print(\"you want me to add into the database\") \n",
    "    db[input(\"entre user name:\")]=int(input(\"entre user password:\"))\n",
    "print(db)"
   ]
  },
  {
   "cell_type": "markdown",
   "metadata": {},
   "source": [
    "# [Innomatics Research Labs](https:/innomatics.in/)\n",
    "[www.innomatics.in](https:/innomatics.in/)"
   ]
  },
  {
   "cell_type": "code",
   "execution_count": null,
   "metadata": {},
   "outputs": [],
   "source": []
  }
 ],
 "metadata": {
  "kernelspec": {
   "display_name": "Python 3 (ipykernel)",
   "language": "python",
   "name": "python3"
  },
  "language_info": {
   "codemirror_mode": {
    "name": "ipython",
    "version": 3
   },
   "file_extension": ".py",
   "mimetype": "text/x-python",
   "name": "python",
   "nbconvert_exporter": "python",
   "pygments_lexer": "ipython3",
   "version": "3.9.7"
  }
 },
 "nbformat": 4,
 "nbformat_minor": 2
}
