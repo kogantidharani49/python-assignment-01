{
 "cells": [
  {
   "cell_type": "code",
   "execution_count": 1,
   "id": "0a8cbaad",
   "metadata": {},
   "outputs": [
    {
     "name": "stdout",
     "output_type": "stream",
     "text": [
      "@  @  @\n",
      "@     @\n",
      "@  @  @\n",
      "@     @\n"
     ]
    }
   ],
   "source": [
    "#print from a to z\n",
    "#A letter\n",
    "x=0\n",
    "while x<4:\n",
    "    if x==0:\n",
    "       print(\"@  @  @\")\n",
    "    elif x==1:\n",
    "       print(\"@     @\")\n",
    "    elif x==2:\n",
    "       print(\"@  @  @\")\n",
    "    else:\n",
    "       print(\"@     @\")\n",
    "    x=x+1\n",
    "    "
   ]
  },
  {
   "cell_type": "code",
   "execution_count": 89,
   "id": "faf5e4d6",
   "metadata": {},
   "outputs": [
    {
     "name": "stdout",
     "output_type": "stream",
     "text": [
      "@@@@@@\n",
      "@     @\n",
      "@@@@@@\n",
      "@     @\n",
      "@@@@@@ \n"
     ]
    }
   ],
   "source": [
    "#B letter\n",
    "x=0\n",
    "while x<5:\n",
    "    if x==0:\n",
    "        print(\"@@@@@@\")\n",
    "    elif x==1:\n",
    "        print(\"@     @\")\n",
    "    elif x==2:\n",
    "        print(\"@@@@@@\")\n",
    "    elif x==3:\n",
    "        print(\"@     @\")\n",
    "    else:\n",
    "        print(\"@@@@@@ \")\n",
    "    x=x+1"
   ]
  },
  {
   "cell_type": "code",
   "execution_count": 18,
   "id": "413cbe20",
   "metadata": {},
   "outputs": [
    {
     "name": "stdout",
     "output_type": "stream",
     "text": [
      "@@@@@@\n",
      "@    \n",
      "@  \n",
      "@    \n",
      "@@@@@@ \n"
     ]
    }
   ],
   "source": [
    "#C letter\n",
    "x=0\n",
    "while x<5:\n",
    "    if x==0:\n",
    "        print(\"@@@@@@\")\n",
    "    elif x==1:\n",
    "        print(\"@    \")\n",
    "    elif x==2:\n",
    "        print(\"@  \")\n",
    "    elif x==3:\n",
    "        print(\"@    \")\n",
    "    else:\n",
    "        print(\"@@@@@@ \")\n",
    "    x=x+1"
   ]
  },
  {
   "cell_type": "code",
   "execution_count": 23,
   "id": "6fa0d54b",
   "metadata": {},
   "outputs": [
    {
     "name": "stdout",
     "output_type": "stream",
     "text": [
      "@@@@@@\n",
      "@     @ \n",
      "@      @\n",
      "@     @\n",
      "@@@@@@ \n"
     ]
    }
   ],
   "source": [
    "#D letter\n",
    "x=0\n",
    "while x<5:\n",
    "    if x==0:\n",
    "        print(\"@@@@@@\")\n",
    "    elif x==1:\n",
    "        print(\"@     @ \")\n",
    "    elif x==2:\n",
    "        print(\"@      @\")\n",
    "    elif x==3:\n",
    "        print(\"@     @\")\n",
    "    else:\n",
    "        print(\"@@@@@@ \")\n",
    "    x=x+1"
   ]
  },
  {
   "cell_type": "code",
   "execution_count": 27,
   "id": "294b666d",
   "metadata": {},
   "outputs": [
    {
     "name": "stdout",
     "output_type": "stream",
     "text": [
      "@@@@@@\n",
      "@     \n",
      "@@@@@ \n",
      "@     \n",
      "@@@@@@ \n"
     ]
    }
   ],
   "source": [
    "#E letter\n",
    "x=0\n",
    "while x<5:\n",
    "    if x==0:\n",
    "        print(\"@@@@@@\")\n",
    "    elif x==1:\n",
    "        print(\"@     \")\n",
    "    elif x==2:\n",
    "        print(\"@@@@@ \")\n",
    "    elif x==3:\n",
    "        print(\"@     \")\n",
    "    else:\n",
    "        print(\"@@@@@@ \")\n",
    "    x=x+1"
   ]
  },
  {
   "cell_type": "code",
   "execution_count": 28,
   "id": "5b067183",
   "metadata": {},
   "outputs": [
    {
     "name": "stdout",
     "output_type": "stream",
     "text": [
      "@@@@@@\n",
      "@     \n",
      "@@@@@ \n",
      "@     \n",
      "@ \n"
     ]
    }
   ],
   "source": [
    "#F letter\n",
    "x=0\n",
    "while x<5:\n",
    "    if x==0:\n",
    "        print(\"@@@@@@\")\n",
    "    elif x==1:\n",
    "        print(\"@     \")\n",
    "    elif x==2:\n",
    "        print(\"@@@@@ \")\n",
    "    elif x==3:\n",
    "        print(\"@     \")\n",
    "    else:\n",
    "        print(\"@ \")\n",
    "    x=x+1"
   ]
  },
  {
   "cell_type": "code",
   "execution_count": 45,
   "id": "eab2289f",
   "metadata": {},
   "outputs": [
    {
     "name": "stdout",
     "output_type": "stream",
     "text": [
      "@@@@@@\n",
      "@     \n",
      "@      @@@@@@\n",
      "@      @    @\n",
      "@@@@@@@@    @\n"
     ]
    }
   ],
   "source": [
    "#G letter\n",
    "x=0\n",
    "while x<5:\n",
    "    if x==0:\n",
    "        print(\"@@@@@@\")\n",
    "    elif x==1:\n",
    "        print(\"@     \")\n",
    "    elif x==2:\n",
    "        print(\"@      @@@@@@\")\n",
    "    elif x==3:\n",
    "        print(\"@      @    @\")\n",
    "    else:\n",
    "        print(\"@@@@@@@@    @\")\n",
    "    x=x+1"
   ]
  },
  {
   "cell_type": "code",
   "execution_count": 50,
   "id": "31be1a98",
   "metadata": {},
   "outputs": [
    {
     "name": "stdout",
     "output_type": "stream",
     "text": [
      "@    @\n",
      "@    @\n",
      "@@@@@@\n",
      "@    @\n",
      "@    @\n"
     ]
    }
   ],
   "source": [
    "#H letter\n",
    "x=0\n",
    "while x<5:\n",
    "    if x==0:\n",
    "        print(\"@    @\")\n",
    "    elif x==1:\n",
    "        print(\"@    @\")\n",
    "    elif x==2:\n",
    "        print(\"@@@@@@\")\n",
    "    elif x==3:\n",
    "        print(\"@    @\")\n",
    "    else:\n",
    "        print(\"@    @\")\n",
    "    x=x+1"
   ]
  },
  {
   "cell_type": "code",
   "execution_count": 52,
   "id": "dc416fc8",
   "metadata": {},
   "outputs": [
    {
     "name": "stdout",
     "output_type": "stream",
     "text": [
      "@@@@@@@@@    \n",
      "    @    \n",
      "    @     \n",
      "    @    \n",
      "@@@@@@@@@    \n"
     ]
    }
   ],
   "source": [
    "#I letter\n",
    "\n",
    "x=0\n",
    "while x<5:\n",
    "    if x==0:\n",
    "        print(\"@@@@@@@@@    \")\n",
    "    elif x==1:\n",
    "        print(\"    @    \")\n",
    "    elif x==2:\n",
    "        print(\"    @     \")\n",
    "    elif x==3:\n",
    "        print(\"    @    \")\n",
    "    else:\n",
    "        print(\"@@@@@@@@@    \")\n",
    "    x=x+1"
   ]
  },
  {
   "cell_type": "code",
   "execution_count": 54,
   "id": "2f426939",
   "metadata": {},
   "outputs": [
    {
     "name": "stdout",
     "output_type": "stream",
     "text": [
      "@@@@@@@@    \n",
      "    @    \n",
      "    @     \n",
      "    @    \n",
      "@@@@@    \n"
     ]
    }
   ],
   "source": [
    "#J letter\n",
    "\n",
    "x=0\n",
    "while x<5:\n",
    "    if x==0:\n",
    "        print(\"@@@@@@@@    \")\n",
    "    elif x==1:\n",
    "        print(\"    @    \")\n",
    "    elif x==2:\n",
    "        print(\"    @     \")\n",
    "    elif x==3:\n",
    "        print(\"    @    \")\n",
    "    else:\n",
    "        print(\"@@@@@    \")\n",
    "    x=x+1"
   ]
  },
  {
   "cell_type": "code",
   "execution_count": 55,
   "id": "3b61f725",
   "metadata": {},
   "outputs": [
    {
     "name": "stdout",
     "output_type": "stream",
     "text": [
      "@    @ \n",
      "@  @   \n",
      "@@     \n",
      "@  @  \n",
      "@    @\n"
     ]
    }
   ],
   "source": [
    "#K letter\n",
    "\n",
    "x=0\n",
    "while x<5:\n",
    "    if x==0:\n",
    "        print(\"@    @ \")\n",
    "    elif x==1:\n",
    "        print(\"@  @   \")\n",
    "    elif x==2:\n",
    "        print(\"@@     \")\n",
    "    elif x==3:\n",
    "        print(\"@  @  \")\n",
    "    else:\n",
    "        print(\"@    @\")\n",
    "    x=x+1"
   ]
  },
  {
   "cell_type": "code",
   "execution_count": 57,
   "id": "8ae0fcbb",
   "metadata": {},
   "outputs": [
    {
     "name": "stdout",
     "output_type": "stream",
     "text": [
      "@     \n",
      "@    \n",
      "@    \n",
      "@    \n",
      "@@@@@@\n"
     ]
    }
   ],
   "source": [
    "#L letter\n",
    "\n",
    "x=0\n",
    "while x<5:\n",
    "    if x==0:\n",
    "        print(\"@     \")\n",
    "    elif x==1:\n",
    "        print(\"@    \")\n",
    "    elif x==2:\n",
    "        print(\"@    \")\n",
    "    elif x==3:\n",
    "        print(\"@    \")\n",
    "    else:\n",
    "        print(\"@@@@@@\")\n",
    "    x=x+1"
   ]
  },
  {
   "cell_type": "code",
   "execution_count": 64,
   "id": "7530186e",
   "metadata": {},
   "outputs": [
    {
     "name": "stdout",
     "output_type": "stream",
     "text": [
      "@ @       @  @ \n",
      "@   @   @    @ \n",
      "@      @     @\n",
      "@            @ \n",
      "@            @ \n"
     ]
    }
   ],
   "source": [
    "#M letter\n",
    "\n",
    "x=0\n",
    "while x<5:\n",
    "    if x==0:\n",
    "        print(\"@ @       @  @ \")\n",
    "    elif x==1:\n",
    "        print(\"@   @   @    @ \")\n",
    "    elif x==2:\n",
    "        print(\"@      @     @\")\n",
    "    elif x==3:\n",
    "        print(\"@            @ \")\n",
    "    else:\n",
    "        print(\"@            @ \")\n",
    "    x=x+1"
   ]
  },
  {
   "cell_type": "code",
   "execution_count": 68,
   "id": "1563fe39",
   "metadata": {},
   "outputs": [
    {
     "name": "stdout",
     "output_type": "stream",
     "text": [
      "@ @          @ \n",
      "@   @        @ \n",
      "@      @     @\n",
      "@         @  @ \n",
      "@            @ \n"
     ]
    }
   ],
   "source": [
    "#N letter\n",
    "x=0\n",
    "while x<5:\n",
    "    if x==0:\n",
    "        print(\"@ @          @ \")\n",
    "    elif x==1:\n",
    "        print(\"@   @        @ \")\n",
    "    elif x==2:\n",
    "        print(\"@      @     @\")\n",
    "    elif x==3:\n",
    "        print(\"@         @  @ \")\n",
    "    else:\n",
    "        print(\"@            @ \")\n",
    "    x=x+1"
   ]
  },
  {
   "cell_type": "code",
   "execution_count": 15,
   "id": "2c14a253",
   "metadata": {},
   "outputs": [
    {
     "name": "stdout",
     "output_type": "stream",
     "text": [
      "     @ @ @    \n",
      "   @       @  \n",
      "  @         @ \n",
      "   @       @  \n",
      "     @ @ @        \n"
     ]
    }
   ],
   "source": [
    "#O letter\n",
    "x=0 \n",
    "while x<5:\n",
    "    if x==0:\n",
    "        print(\"     @ @ @    \")\n",
    "    elif x==1:\n",
    "        print(\"   @       @  \")\n",
    "    elif x==2:\n",
    "        print(\"  @         @ \")\n",
    "    elif x==3:\n",
    "        print(\"   @       @  \")\n",
    "    else:\n",
    "        print(\"     @ @ @        \")\n",
    "    x=x+1"
   ]
  },
  {
   "cell_type": "code",
   "execution_count": 6,
   "id": "356ef39d",
   "metadata": {},
   "outputs": [
    {
     "name": "stdout",
     "output_type": "stream",
     "text": [
      "    @@@@@@@@  \n",
      "    @       @  \n",
      "    @       @ \n",
      "    @@@@@@@@  \n",
      "    @        \n",
      "    @         \n",
      "    @          \n"
     ]
    }
   ],
   "source": [
    "#P letter\n",
    "x=0 \n",
    "while x<7:\n",
    "    if x==0:\n",
    "        print(\"    @@@@@@@@  \")\n",
    "    elif x==1:\n",
    "        print(\"    @       @  \")\n",
    "    elif x==2:\n",
    "        print(\"    @       @ \")\n",
    "    elif x==3:\n",
    "        print(\"    @@@@@@@@  \")\n",
    "    elif x==4:\n",
    "        print(\"    @        \")\n",
    "    elif x==5:\n",
    "        print(\"    @         \")\n",
    "    else:\n",
    "        print(\"    @          \")\n",
    "    x=x+1"
   ]
  },
  {
   "cell_type": "code",
   "execution_count": 24,
   "id": "a67e7877",
   "metadata": {},
   "outputs": [
    {
     "name": "stdout",
     "output_type": "stream",
     "text": [
      "     @ @ @    \n",
      "   @       @  \n",
      "  @     @   @ \n",
      "   @      @ @  \n",
      "     @ @ @ @           \n",
      "             @      @   \n",
      "                @ @\n"
     ]
    }
   ],
   "source": [
    "#Q letter\n",
    "x=0 \n",
    "while x<7:\n",
    "    if x==0:\n",
    "        print(\"     @ @ @    \")\n",
    "    elif x==1:\n",
    "        print(\"   @       @  \")\n",
    "    elif x==2:\n",
    "        print(\"  @     @   @ \")\n",
    "    elif x==3:\n",
    "        print(\"   @      @ @  \")\n",
    "    elif x==4:\n",
    "        print(\"     @ @ @ @           \")\n",
    "    elif x==5:\n",
    "        print(\"             @      @   \")\n",
    "    else:\n",
    "        print(\"                @ @\")\n",
    "    x=x+1"
   ]
  },
  {
   "cell_type": "code",
   "execution_count": 29,
   "id": "cd5d5578",
   "metadata": {},
   "outputs": [
    {
     "name": "stdout",
     "output_type": "stream",
     "text": [
      "    @ @ @ @ @  \n",
      "    @        @  \n",
      "    @        @ \n",
      "    @ @ @ @ @  \n",
      "    @  @      \n",
      "    @     @    \n",
      "    @         @ \n"
     ]
    }
   ],
   "source": [
    "#R letter\n",
    "x=0 \n",
    "while x<7:\n",
    "    if x==0:\n",
    "        print(\"    @ @ @ @ @  \")\n",
    "    elif x==1:\n",
    "        print(\"    @        @  \")\n",
    "    elif x==2:\n",
    "        print(\"    @        @ \")\n",
    "    elif x==3:\n",
    "        print(\"    @ @ @ @ @  \")\n",
    "    elif x==4:\n",
    "        print(\"    @  @      \")\n",
    "    elif x==5:\n",
    "        print(\"    @     @    \")\n",
    "    else:\n",
    "        print(\"    @         @ \")\n",
    "    x=x+1"
   ]
  },
  {
   "cell_type": "code",
   "execution_count": 49,
   "id": "19decf12",
   "metadata": {},
   "outputs": [
    {
     "name": "stdout",
     "output_type": "stream",
     "text": [
      " @ @ @ @   \n",
      "@       \n",
      "@       \n",
      " @ @ @ @   \n",
      "        @\n",
      "        @ \n",
      "@ @ @ @\n",
      "\n"
     ]
    }
   ],
   "source": [
    "#S letter\n",
    "\n",
    "x=0\n",
    "while x<8:\n",
    "    if x==0:\n",
    "        print(\" @ @ @ @   \")\n",
    "    elif x==1:\n",
    "        print(\"@       \")\n",
    "    elif x==2:\n",
    "        print(\"@       \")\n",
    "    elif x==3:\n",
    "        print(\" @ @ @ @   \")\n",
    "    elif x==4:\n",
    "        print(\"        @\")\n",
    "    elif x==5:\n",
    "        print(\"        @ \")\n",
    "    elif x==6:\n",
    "        print(\"@ @ @ @\")\n",
    "    elif x==7:\n",
    "        print(\"\")\n",
    "    x=x+1"
   ]
  },
  {
   "cell_type": "code",
   "execution_count": 51,
   "id": "2183fc8e",
   "metadata": {},
   "outputs": [
    {
     "name": "stdout",
     "output_type": "stream",
     "text": [
      "@@@@@@@@@    \n",
      "    @    \n",
      "    @     \n",
      "    @    \n",
      "    @    \n"
     ]
    }
   ],
   "source": [
    "#T letter\n",
    "\n",
    "x=0\n",
    "while x<5:\n",
    "    if x==0:\n",
    "        print(\"@@@@@@@@@    \")\n",
    "    elif x==1:\n",
    "        print(\"    @    \")\n",
    "    elif x==2:\n",
    "        print(\"    @     \")\n",
    "    elif x==3:\n",
    "        print(\"    @    \")\n",
    "    else:\n",
    "        print(\"    @    \")\n",
    "    x=x+1"
   ]
  },
  {
   "cell_type": "code",
   "execution_count": 52,
   "id": "1a572d85",
   "metadata": {},
   "outputs": [
    {
     "name": "stdout",
     "output_type": "stream",
     "text": [
      "@     @\n",
      "@     @\n",
      "@     @\n",
      "@     @\n",
      " @  @ \n"
     ]
    }
   ],
   "source": [
    "#U letter\n",
    "x=0\n",
    "while x<5:\n",
    "    if x==0:\n",
    "        print(\"@     @\")\n",
    "    elif x==1:\n",
    "        print(\"@     @\")\n",
    "    elif x==2:\n",
    "        print(\"@     @\")\n",
    "    elif x==3:\n",
    "        print(\"@     @\")\n",
    "    else:\n",
    "        print(\" @  @ \")\n",
    "    x=x+1"
   ]
  },
  {
   "cell_type": "code",
   "execution_count": 67,
   "id": "4b8ab93d",
   "metadata": {},
   "outputs": [
    {
     "name": "stdout",
     "output_type": "stream",
     "text": [
      "     @           @\n",
      "      @         @\n",
      "       @      @\n",
      "        @   @  \n",
      "          @ \n"
     ]
    }
   ],
   "source": [
    "#V letter\n",
    "x=0\n",
    "while x<5:\n",
    "    if x==0:\n",
    "        print(\"     @           @\")\n",
    "    elif x==1:\n",
    "        print(\"      @         @\")\n",
    "    elif x==2:\n",
    "        print(\"       @      @\")\n",
    "    elif x==3:\n",
    "        print(\"        @   @  \")\n",
    "    else:\n",
    "        print(\"          @ \")\n",
    "    x=x+1"
   ]
  },
  {
   "cell_type": "code",
   "execution_count": 73,
   "id": "ed40b0ee",
   "metadata": {},
   "outputs": [
    {
     "name": "stdout",
     "output_type": "stream",
     "text": [
      "@            @\n",
      "@            @\n",
      "@            @\n",
      "@     @      @ \n",
      "   @      @  \n"
     ]
    }
   ],
   "source": [
    "#W letter\n",
    "x=0\n",
    "while x<5:\n",
    "    if x==0:\n",
    "        print(\"@            @\")\n",
    "    elif x==1:\n",
    "        print(\"@            @\")\n",
    "    elif x==2:\n",
    "        print(\"@            @\")\n",
    "    elif x==3:\n",
    "        print(\"@     @      @ \")\n",
    "    else:\n",
    "        print(\"   @      @  \")\n",
    "    x=x+1"
   ]
  },
  {
   "cell_type": "code",
   "execution_count": 92,
   "id": "1ffe171a",
   "metadata": {},
   "outputs": [
    {
     "name": "stdout",
     "output_type": "stream",
     "text": [
      " @           @\n",
      "   @      @   \n",
      "      @     \n",
      "   @     @   \n",
      "@           @ \n"
     ]
    }
   ],
   "source": [
    "#X letter\n",
    "x=0\n",
    "while x<5:\n",
    "    if x==0:\n",
    "        print(\" @           @\")\n",
    "    elif x==1:\n",
    "        print(\"   @      @   \")\n",
    "    elif x==2:\n",
    "        print(\"      @     \")\n",
    "    elif x==3:\n",
    "        print(\"   @     @   \")\n",
    "    else:\n",
    "        print(\"@           @ \")\n",
    "    x=x+1"
   ]
  },
  {
   "cell_type": "code",
   "execution_count": 82,
   "id": "1a669e14",
   "metadata": {},
   "outputs": [
    {
     "name": "stdout",
     "output_type": "stream",
     "text": [
      "  @         @\n",
      "    @    @   \n",
      "      @     \n",
      "      @    \n",
      "      @     \n"
     ]
    }
   ],
   "source": [
    "#Y letter\n",
    "x=0\n",
    "while x<5:\n",
    "    if x==0:\n",
    "        print(\"  @         @\")\n",
    "    elif x==1:\n",
    "        print(\"    @    @   \")\n",
    "    elif x==2:\n",
    "        print(\"      @     \")\n",
    "    elif x==3:\n",
    "        print(\"      @    \")\n",
    "    else:\n",
    "        print(\"      @     \")\n",
    "    x=x+1"
   ]
  },
  {
   "cell_type": "code",
   "execution_count": 88,
   "id": "445f117a",
   "metadata": {},
   "outputs": [
    {
     "name": "stdout",
     "output_type": "stream",
     "text": [
      "@ @ @ @ @    \n",
      "       @  \n",
      "     @    \n",
      "    @    \n",
      "  @ @ @ @ @ @    \n"
     ]
    }
   ],
   "source": [
    "#Z letter\n",
    "\n",
    "x=0\n",
    "while x<5:\n",
    "    if x==0:\n",
    "        print(\"@ @ @ @ @    \")\n",
    "    elif x==1:\n",
    "        print(\"       @  \")\n",
    "    elif x==2:\n",
    "        print(\"     @    \")\n",
    "    elif x==3:\n",
    "        print(\"    @    \")\n",
    "    else:\n",
    "        print(\"  @ @ @ @ @ @    \")\n",
    "    x=x+1"
   ]
  },
  {
   "cell_type": "code",
   "execution_count": null,
   "id": "74816cfb",
   "metadata": {},
   "outputs": [],
   "source": []
  }
 ],
 "metadata": {
  "kernelspec": {
   "display_name": "Python 3 (ipykernel)",
   "language": "python",
   "name": "python3"
  },
  "language_info": {
   "codemirror_mode": {
    "name": "ipython",
    "version": 3
   },
   "file_extension": ".py",
   "mimetype": "text/x-python",
   "name": "python",
   "nbconvert_exporter": "python",
   "pygments_lexer": "ipython3",
   "version": "3.9.7"
  }
 },
 "nbformat": 4,
 "nbformat_minor": 5
}
