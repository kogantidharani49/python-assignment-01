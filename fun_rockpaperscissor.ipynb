{
 "cells": [
  {
   "cell_type": "code",
   "execution_count": 2,
   "id": "cd8b5cbe",
   "metadata": {},
   "outputs": [],
   "source": [
    "def f(x,y):\n",
    "\n",
    "      if y==\"rock\" and x==\"paper\": \n",
    "            print(\" winner is x\")\n",
    "      elif y==\"paper\" and x==\"scissor\":\n",
    "            print(\"winner is x\")\n",
    "      elif y==\"scissor\" and \"x==rock\":\n",
    "            print(\"winner is x\") \n",
    "      elif x==\"rock\" and y==\"paper\": \n",
    "            print(\" winner is y\")\n",
    "      elif x==\"paper\" and y==\"scissor\":\n",
    "            print(\"winner is y\")\n",
    "      elif x==\"scissor\" and y==\"rock\":\n",
    "            print(\"winner is y\")\n",
    "      elif x==\"scissor\" and y==\"scissor\":\n",
    "            print(\"draw\") \n",
    "      elif x==\"rock\" and y==\"rock\":\n",
    "            print(\"draw\") \n",
    "      elif x==\"paper\" and y==\"paper\":\n",
    "            print(\"draw\") \n"
   ]
  },
  {
   "cell_type": "code",
   "execution_count": 3,
   "id": "0016410a",
   "metadata": {},
   "outputs": [
    {
     "name": "stdout",
     "output_type": "stream",
     "text": [
      "winner is x\n"
     ]
    }
   ],
   "source": [
    "f(x=\"rock\",y=\"scissor\")"
   ]
  },
  {
   "cell_type": "code",
   "execution_count": null,
   "id": "db9f8dd9",
   "metadata": {},
   "outputs": [],
   "source": []
  }
 ],
 "metadata": {
  "kernelspec": {
   "display_name": "Python 3 (ipykernel)",
   "language": "python",
   "name": "python3"
  },
  "language_info": {
   "codemirror_mode": {
    "name": "ipython",
    "version": 3
   },
   "file_extension": ".py",
   "mimetype": "text/x-python",
   "name": "python",
   "nbconvert_exporter": "python",
   "pygments_lexer": "ipython3",
   "version": "3.9.7"
  }
 },
 "nbformat": 4,
 "nbformat_minor": 5
}
