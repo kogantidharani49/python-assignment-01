{
 "cells": [
  {
   "cell_type": "code",
   "execution_count": 10,
   "id": "3f853f08",
   "metadata": {},
   "outputs": [
    {
     "name": "stdout",
     "output_type": "stream",
     "text": [
      "49  is not prime number.\n"
     ]
    }
   ],
   "source": [
    "#1check whether the given num is prime or not using functions.\n",
    "def prime(y):\n",
    "        if y%2!=0 and y%3!=0 and y%5!=0 and y%7!=0 :\n",
    "                            print(y, \" is prime num.\")\n",
    "        elif y==5 or y==7 or y==3 or y==2:\n",
    "                            print(y,\" is prime num.\")\n",
    "        else:\n",
    "            print(y,\" is not prime number.\")\n",
    "                            \n",
    "prime(49)"
   ]
  },
  {
   "cell_type": "code",
   "execution_count": 1,
   "id": "f1c9a44d",
   "metadata": {},
   "outputs": [
    {
     "name": "stdout",
     "output_type": "stream",
     "text": [
      "5 is grater\n"
     ]
    }
   ],
   "source": [
    "#2write a python function to find max of 3 numbers.\n",
    "def max(x,y,z):\n",
    "        if x>y and x>z:\n",
    "            print(x, 'is grater')\n",
    "        elif y>x and y>z:\n",
    "           print(y,' is grater')\n",
    "        elif z>x and z>y:\n",
    "            print(z,'is grater')\n",
    "max(2,3,5)"
   ]
  },
  {
   "cell_type": "code",
   "execution_count": 2,
   "id": "2277911e",
   "metadata": {},
   "outputs": [
    {
     "name": "stdout",
     "output_type": "stream",
     "text": [
      "2 is small\n"
     ]
    }
   ],
   "source": [
    "#3write a python prgm to fin min of 3numbers.\n",
    "def min(x,y,z):\n",
    "        if x<y and x<z:\n",
    "            print(x, 'is small')\n",
    "        elif y<x and y<z:\n",
    "            print(y,' is small')\n",
    "        elif z<x and z<y:\n",
    "            print(z,'is small')\n",
    "min(2,3,5)"
   ]
  },
  {
   "cell_type": "code",
   "execution_count": 3,
   "id": "08b29648",
   "metadata": {},
   "outputs": [
    {
     "name": "stdout",
     "output_type": "stream",
     "text": [
      "number of upper case letters are : 8\n",
      "number of lower case letters: 19\n"
     ]
    }
   ],
   "source": [
    "#4write a python prgm to accept string and calculate number of upper case letters  and lower case leteers .\n",
    "def strings(x):\n",
    "        i=0\n",
    "        j=0\n",
    "        k=0\n",
    "        while i<len(x):\n",
    "                if x[i].isupper():\n",
    "                    j=j+1 \n",
    "                elif x[i].islower():\n",
    "                    k=k+1\n",
    "                i=i+1\n",
    "        print(\"number of upper case letters are :\",j)\n",
    "        print(\"number of lower case letters:\",k)\n",
    "strings(\"My Husband Name Is G.SaiGiriDhar.\")"
   ]
  },
  {
   "cell_type": "code",
   "execution_count": 6,
   "id": "378cea67",
   "metadata": {},
   "outputs": [
    {
     "name": "stdout",
     "output_type": "stream",
     "text": [
      "not in range.\n"
     ]
    }
   ],
   "source": [
    "#5write a function to check whether a number fall in given range.\n",
    "def num_R(i):\n",
    "     while i!=0:\n",
    "            if i<=101 and i>=1:\n",
    "                 print(\"the num is in range\")\n",
    "            else: \n",
    "                 print(\"not in range.\")\n",
    "            break\n",
    "num_R(1000)"
   ]
  },
  {
   "cell_type": "code",
   "execution_count": 6,
   "id": "f71b0cb3",
   "metadata": {},
   "outputs": [
    {
     "name": "stdout",
     "output_type": "stream",
     "text": [
      "'mom' is palandrome\n"
     ]
    }
   ],
   "source": [
    "#6.write a palandrome prgm.\n",
    "def palandrome(x):\n",
    "            if x==x[::-1]:\n",
    "                   print(x,\"is palandrome\")\n",
    "            else:\n",
    "                   print(x,\"is not palanadrome\")\n",
    "palandrome(\"'mom'\")"
   ]
  },
  {
   "cell_type": "code",
   "execution_count": null,
   "id": "0629c778",
   "metadata": {},
   "outputs": [],
   "source": []
  },
  {
   "cell_type": "code",
   "execution_count": null,
   "id": "4ded7db9",
   "metadata": {},
   "outputs": [],
   "source": []
  }
 ],
 "metadata": {
  "kernelspec": {
   "display_name": "Python 3 (ipykernel)",
   "language": "python",
   "name": "python3"
  },
  "language_info": {
   "codemirror_mode": {
    "name": "ipython",
    "version": 3
   },
   "file_extension": ".py",
   "mimetype": "text/x-python",
   "name": "python",
   "nbconvert_exporter": "python",
   "pygments_lexer": "ipython3",
   "version": "3.9.7"
  }
 },
 "nbformat": 4,
 "nbformat_minor": 5
}
