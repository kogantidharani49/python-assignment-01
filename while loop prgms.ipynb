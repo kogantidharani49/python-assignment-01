{
 "cells": [
  {
   "cell_type": "code",
   "execution_count": 1,
   "id": "e831d6c3",
   "metadata": {},
   "outputs": [
    {
     "name": "stdout",
     "output_type": "stream",
     "text": [
      "entre string:djdsdgh\n",
      " DjDsDgH\n"
     ]
    }
   ],
   "source": [
    "# take a string and print string alternative capital letters of string\n",
    "\n",
    "s=str(input(\"entre string:\"))\n",
    "x=0\n",
    "f=\" \"\n",
    "while x<len(s):\n",
    "    if s[x]==0 or x%2==0:\n",
    "       f=f+s[x].upper()\n",
    "    else:\n",
    "       f=f+s[x].lower()\n",
    "    x=x+1 \n",
    "print(str(f))"
   ]
  },
  {
   "cell_type": "code",
   "execution_count": 2,
   "id": "901ec9bf",
   "metadata": {},
   "outputs": [
    {
     "name": "stdout",
     "output_type": "stream",
     "text": [
      "<class 'str'>\n",
      "<class 'float'>\n",
      "<class 'int'>\n",
      "<class 'str'>\n",
      "<class 'complex'>\n"
     ]
    }
   ],
   "source": [
    "#take a list  and print data type of each\n",
    "x=[\"a\",1.2,322,\"abc\",1+2j]\n",
    "y=0\n",
    "while y<len(x):\n",
    "    print(type(x[y]))\n",
    "    y=y+1"
   ]
  },
  {
   "cell_type": "code",
   "execution_count": 3,
   "id": "6cfbdece",
   "metadata": {},
   "outputs": [
    {
     "name": "stdout",
     "output_type": "stream",
     "text": [
      " abde\n",
      "10\n"
     ]
    }
   ],
   "source": [
    "#take a list  and print seperate strings of alphabets and numbers\n",
    "x=[\"a\",\"b\",1,2,3,\"d\",\"e\",4]\n",
    "y=0\n",
    "f=\" \"\n",
    "g=0\n",
    "while y<len(x):\n",
    "    if str(x[y]).isalpha():\n",
    "        f=f+x[y]\n",
    "    elif str(x[y]).isdigit():\n",
    "        g=g+x[y]\n",
    "    y=y+1\n",
    "print(f) \n",
    "print(int(g))"
   ]
  },
  {
   "cell_type": "code",
   "execution_count": 4,
   "id": "05167384",
   "metadata": {},
   "outputs": [
    {
     "name": "stdout",
     "output_type": "stream",
     "text": [
      "['a', 'b', 'c', 'd', 'e', 'f']\n",
      "['1', '2', '3']\n"
     ]
    }
   ],
   "source": [
    "#entre string  and print 2lists sepertely  numeric and alphabets\n",
    "k=\"abcd123ef\"\n",
    "y=0\n",
    "f=\"\"\n",
    "g=\"\"\n",
    "while y<len(k):\n",
    "    if k[y].isalpha():\n",
    "        f=f+k[y]\n",
    "    elif str(k[y]).isdigit():\n",
    "        g=g+k[y]\n",
    "    y=y+1\n",
    "print(list((f)))\n",
    "print(list((g)))"
   ]
  },
  {
   "cell_type": "code",
   "execution_count": 7,
   "id": "2d378389",
   "metadata": {},
   "outputs": [
    {
     "name": "stdout",
     "output_type": "stream",
     "text": [
      "enter number only to have some perfomance:30\n",
      "entre symbols *, % ,**,+,-: +\n",
      "entre number 2:20\n",
      "50\n",
      "Plese enter c to exit in below first input\n",
      "enter first number:55\n",
      "entre symbols *, % ,**,+,-: -\n",
      "entre number 2:50\n",
      "5\n",
      "Plese enter c to exit in below first input\n",
      "enter first number:c\n"
     ]
    }
   ],
   "source": [
    "#create calculator and go on running  until enter c ,then only stops the loop\n",
    "x=int(input(\"enter number only to have some perfomance:\"))\n",
    "y=input(\"entre symbols *, % ,**,+,-: \")\n",
    "z=int(input(\"entre number 2:\"))\n",
    "while x!=0:\n",
    "    if y == '+':\n",
    "       print(x+z)\n",
    "    elif y== '-':\n",
    "       print(x-z)\n",
    "    elif y=='*':\n",
    "       print(x*z)\n",
    "    elif y=='%':\n",
    "       print(x%z)\n",
    "    elif y=='**':\n",
    "       print(x**y)\n",
    "    elif y=='/':\n",
    "       print(x/y)\n",
    "    print(\"Plese enter c to exit in below first input\");\n",
    "    x=input(\"enter first number:\")\n",
    "    if x == 'c':\n",
    "      break;\n",
    "    x=int(x);\n",
    "    y=input(\"entre symbols *, % ,**,+,-: \")\n",
    "    z=int(input(\"entre number 2:\"))"
   ]
  },
  {
   "cell_type": "code",
   "execution_count": 8,
   "id": "b8d5ef91",
   "metadata": {},
   "outputs": [
    {
     "name": "stdout",
     "output_type": "stream",
     "text": [
      "[2, 'b', 6, 'd']\n"
     ]
    }
   ],
   "source": [
    "# take 2 lists and print unique elements into one list\n",
    "l1=[1,2,3,'a','b']\n",
    "l2=[6,1,3,\"a\",\"d\"]\n",
    "\n",
    "l3=[]\n",
    "\n",
    "i=0\n",
    "while i < len(l1):\n",
    "    j=0\n",
    "    isFound = False\n",
    "    while j < len(l2):\n",
    "        if l2[j] == l1[i]:\n",
    "            isFound = True\n",
    "            break\n",
    "        j=j+1\n",
    "    if isFound == False:\n",
    "        l3.append(l1[i])\n",
    "    i = i+1\n",
    "\n",
    "i=0\n",
    "while i < len(l2):\n",
    "    j=0\n",
    "    isFound = False\n",
    "    while j < len(l1):\n",
    "        if l1[j] == l2[i]:\n",
    "            isFound = True\n",
    "            break\n",
    "        j=j+1\n",
    "    if isFound == False:\n",
    "        l3.append(l2[i])\n",
    "    i = i+1\n",
    "    \n",
    "print(list((l3)))\n"
   ]
  },
  {
   "cell_type": "code",
   "execution_count": null,
   "id": "75c9cecd",
   "metadata": {},
   "outputs": [],
   "source": []
  }
 ],
 "metadata": {
  "kernelspec": {
   "display_name": "Python 3 (ipykernel)",
   "language": "python",
   "name": "python3"
  },
  "language_info": {
   "codemirror_mode": {
    "name": "ipython",
    "version": 3
   },
   "file_extension": ".py",
   "mimetype": "text/x-python",
   "name": "python",
   "nbconvert_exporter": "python",
   "pygments_lexer": "ipython3",
   "version": "3.9.7"
  }
 },
 "nbformat": 4,
 "nbformat_minor": 5
}
