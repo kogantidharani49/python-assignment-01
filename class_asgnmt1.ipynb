{
 "cells": [
  {
   "cell_type": "code",
   "execution_count": 1,
   "id": "91aaad8f",
   "metadata": {},
   "outputs": [
    {
     "name": "stdout",
     "output_type": "stream",
     "text": [
      "entre age: 21\n",
      "eligible to vote\n"
     ]
    }
   ],
   "source": [
    "#4.Write a program to check whether a person is eligible for voting or not. (accept age from user)\n",
    "user_age=int(input(\"entre age: \"))\n",
    "if user_age>18:\n",
    "    print(\"eligible to vote\")\n",
    "else:\n",
    "    print(\"not eligible to vote\")"
   ]
  },
  {
   "cell_type": "code",
   "execution_count": 2,
   "id": "663b7b20",
   "metadata": {},
   "outputs": [
    {
     "name": "stdout",
     "output_type": "stream",
     "text": [
      "entre number:31\n",
      "num is odd\n"
     ]
    }
   ],
   "source": [
    "#Q5. Write a program to check whether a number entered by user is even or od\n",
    "x=input(\"entre number:\")\n",
    "if x.isdigit() and int(x[-1])%2==0 :\n",
    "    print(\"number is even\")\n",
    "elif int(x[-1])%2!=0 or x[-1]==1:\n",
    "    print(\"num is odd\")"
   ]
  },
  {
   "cell_type": "code",
   "execution_count": 3,
   "id": "22532592",
   "metadata": {},
   "outputs": [
    {
     "name": "stdout",
     "output_type": "stream",
     "text": [
      "entre num:35\n",
      "divisibles of 7\n"
     ]
    }
   ],
   "source": [
    "#Q6. Write a program to check whether a number is divisible by 7 or not.\n",
    "x=int(input(\"entre num:\"))\n",
    "if x%7==0:\n",
    "    print(\"divisibles of 7\")\n",
    "else:\n",
    "    print(\"not divisible of 7\")"
   ]
  },
  {
   "cell_type": "code",
   "execution_count": 1,
   "id": "a2bdfd88",
   "metadata": {},
   "outputs": [
    {
     "name": "stdout",
     "output_type": "stream",
     "text": [
      "entre num:55\n",
      "hello\n"
     ]
    }
   ],
   "source": [
    "# 7Write a program to display \"Hello\" if a number entered by user is a multiple of five , \n",
    "#otherwise print \"Bye\".\n",
    "number=input(\"entre num:\")\n",
    "if int(number)%5==0:\n",
    "    print(\"hello\")\n",
    "else:\n",
    "    print(\"bye\")"
   ]
  },
  {
   "cell_type": "code",
   "execution_count": 16,
   "id": "6a97cc26",
   "metadata": {},
   "outputs": [
    {
     "name": "stdout",
     "output_type": "stream",
     "text": [
      "enter digit:12345566\n",
      "6\n"
     ]
    }
   ],
   "source": [
    "#Q9. Write a program to display the last digit of a number.\n",
    "#(hint : any number % 10 will return the last digit)\n",
    "x=input(\"enter digit:\")\n",
    "if int(x)%1==0:\n",
    "    print(x[-1])\n",
    "else:\n",
    "    print(\"no number is there\")"
   ]
  },
  {
   "cell_type": "code",
   "execution_count": 17,
   "id": "c1ab1bd7",
   "metadata": {},
   "outputs": [
    {
     "name": "stdout",
     "output_type": "stream",
     "text": [
      "entre digit:33\n",
      "divisable by 3\n"
     ]
    }
   ],
   "source": [
    "#Q10. Write a program to check whether the last digit of a number( entered by user ) is \n",
    "#divisible by 3 or not.\n",
    "x=input(\"entre digit:\")\n",
    "if int(x[-1])%3==0:\n",
    "    print(\"divisable by 3\")\n",
    "else:\n",
    "    print(\"not divisble  by 3\")"
   ]
  },
  {
   "cell_type": "code",
   "execution_count": 19,
   "id": "fcee9146",
   "metadata": {},
   "outputs": [
    {
     "name": "stdout",
     "output_type": "stream",
     "text": [
      "entre num of units:250\n",
      "charge them 10rus per unit 1000\n"
     ]
    }
   ],
   "source": [
    "\"\"\"Q8. Write a program to calculate the electricity bill (accept number of unit from user) according to the following criteria :\n",
    "             Unit                                                     Price  \n",
    "First 100 units                                               no charge\n",
    "Next 100 units                                              Rs 5 per unit\n",
    "After 200 units                                             Rs 10 per unit\n",
    "(For example if input unit is 350 than total bill amount is Rs2000)\"\"\"\n",
    "\n",
    "units=int(input(\"entre num of units:\"))\n",
    "if units<=100:\n",
    "    print(\"no charges\")\n",
    "elif units>100 and units<=200:\n",
    "    bill=units*5\n",
    "    print(\"charge them 5 ru per unit\",bill)\n",
    "    \n",
    "elif units>200:\n",
    "    bill2=100*5+(units-200)*10\n",
    "    print(\"charge them 10rus per unit\",bill2)\n",
    "    \n",
    "else:\n",
    "    print(\"no bill\")"
   ]
  },
  {
   "cell_type": "code",
   "execution_count": 28,
   "id": "e2751cab",
   "metadata": {},
   "outputs": [
    {
     "name": "stdout",
     "output_type": "stream",
     "text": [
      "entre number:61\n",
      "the number is prime number\n"
     ]
    }
   ],
   "source": [
    "#find prime number  or not?\n",
    "x=int(input(\"entre number:\"))\n",
    "if x==2 or x==3 or x==5 or x==7 or x%2!=0:\n",
    "    print(\"the number is prime number\")\n",
    "elif x%2==0 or x%3==0 or x%5==0 or x%7==0 or x%9==0:\n",
    "    print(\"entred num is not prime number\")"
   ]
  },
  {
   "cell_type": "code",
   "execution_count": 33,
   "id": "dc89d632",
   "metadata": {},
   "outputs": [
    {
     "name": "stdout",
     "output_type": "stream",
     "text": [
      "entre percentge %:80\n",
      "C grade\n"
     ]
    }
   ],
   "source": [
    "\"\"\"Q1. Write a program to accept percentage from the user and display the grade according to the following criteria:\n",
    "\n",
    "         Marks                                    Grade\n",
    "         > 90                                        A\n",
    "         > 80 and <= 90                              B\n",
    "         >= 60 and <= 80                             C\n",
    "         below 60                                    D\"\"\"\n",
    "x=int(input(\"entre percentge %:\"))\n",
    "if  x>90:\n",
    "    print(\"A grade \")\n",
    "elif x>80 and x<=90:\n",
    "    print(\"B grade\")\n",
    "elif x>=60 and x<=80:\n",
    "    print(\"C grade\")\n",
    "else :\n",
    "    print(\"D grade\")"
   ]
  },
  {
   "cell_type": "code",
   "execution_count": 1,
   "id": "ed3d6b50",
   "metadata": {},
   "outputs": [
    {
     "name": "stdout",
     "output_type": "stream",
     "text": [
      "entre cost of bike :1000000\n",
      "1150000.0\n",
      "15% tax have to pay \n"
     ]
    }
   ],
   "source": [
    "\"\"\"Q2. Write a program to accept the cost price of a bike and display the road tax to be paid according to the following criteria :\n",
    "    \n",
    "        Cost price (in Rs)                                       Tax\n",
    "        > 100000                                                  15 %\n",
    "        > 50000 and <= 100000                                     10%\n",
    "        <= 50000             \n",
    "                                                                 5%\"\"\"\n",
    "x=int(input(\"entre cost of bike :\"))\n",
    "if x>100000:\n",
    "    print(x+(x*0.15))\n",
    "    print(\"15% tax have to pay \")\n",
    "elif x>50000 and x<=100000:\n",
    "    x*(10/100)\n",
    "    print(\"10%tax to be paid\")\n",
    "else:\n",
    "    x*(5/100)\n",
    "    print(\"just 5% tax have to pay\")"
   ]
  },
  {
   "cell_type": "code",
   "execution_count": null,
   "id": "5cf6edc7",
   "metadata": {},
   "outputs": [],
   "source": []
  },
  {
   "cell_type": "code",
   "execution_count": null,
   "id": "72d64024",
   "metadata": {},
   "outputs": [],
   "source": []
  },
  {
   "cell_type": "code",
   "execution_count": null,
   "id": "bed0dc4e",
   "metadata": {},
   "outputs": [],
   "source": []
  }
 ],
 "metadata": {
  "kernelspec": {
   "display_name": "Python 3 (ipykernel)",
   "language": "python",
   "name": "python3"
  },
  "language_info": {
   "codemirror_mode": {
    "name": "ipython",
    "version": 3
   },
   "file_extension": ".py",
   "mimetype": "text/x-python",
   "name": "python",
   "nbconvert_exporter": "python",
   "pygments_lexer": "ipython3",
   "version": "3.9.7"
  }
 },
 "nbformat": 4,
 "nbformat_minor": 5
}
